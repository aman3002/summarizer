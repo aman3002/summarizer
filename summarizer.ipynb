{
  "nbformat": 4,
  "nbformat_minor": 0,
  "metadata": {
    "colab": {
      "provenance": [],
      "authorship_tag": "ABX9TyNQNmn/OW6J0I6a5lAlRWxo",
      "include_colab_link": true
    },
    "kernelspec": {
      "name": "python3",
      "display_name": "Python 3"
    },
    "language_info": {
      "name": "python"
    }
  },
  "cells": [
    {
      "cell_type": "markdown",
      "metadata": {
        "id": "view-in-github",
        "colab_type": "text"
      },
      "source": [
        "<a href=\"https://colab.research.google.com/github/aman3002/summarizer/blob/main/summarizer.ipynb\" target=\"_parent\"><img src=\"https://colab.research.google.com/assets/colab-badge.svg\" alt=\"Open In Colab\"/></a>"
      ]
    },
    {
      "cell_type": "code",
      "execution_count": null,
      "metadata": {
        "colab": {
          "base_uri": "https://localhost:8080/"
        },
        "id": "2piZlsLGIJ_p",
        "outputId": "1405a9f9-1199-42d6-ab8b-d29e1986e454"
      },
      "outputs": [
        {
          "output_type": "stream",
          "name": "stdout",
          "text": [
            "It makes us wonder about the purpose of the exercise and the agenda behind it; frankly, we do wish to dignify these efforts,\" he added.Referring to apparent remarks made by former UK Secretary Jack Straw in the documentary series, Bagchi said \"He (Jack Straw) seems to be referring to some internal UK report. Ministry of External Affairs also reacted to the BBC report.Defending Prime Minister Narendra Modi in the British Parliament, UK Prime Minister Rishi Sunak distanced himself from the BBC documentary series, saying he \"doesn't agree with the characterization\" of his Indian counterpart.Mr Sunak made these remarks on the controversial documentary that was raised in the British Parliament by Pakistan-origin MP Imran Hussain. \"Ministry of External Affairs also reacted to the BBC report and said that this is a completely biased copy.While addressing a weekly briefing in New Delhi, MEA Spokesperson Arindam Bagchi said, \"We think this is a propaganda piece. \"Condemning the biased reporting of BBC, Rami tweeted, \"@BBCNews You have caused a great deal of hurt to over a billion Indians It insults a democratically elected@PMOIndia Indian Police & the Indian judiciary. We condemn the riots and loss of life & also condemn your biased reporting. The documentary sparked outrage and was removed from select platforms.Prominent Indian-origin UK citizens condemned the series. Prominent UK Citizen Lord Rami Ranger said the \"BBC caused a great deal of hurt to over a billion Indians.\n"
          ]
        }
      ],
      "source": [
        "import bs4 as bs\n",
        "import urllib.request\n",
        "import re\n",
        "import nltk\n",
        "import heapq\n",
        "\n",
        "scraped_data = urllib.request.urlopen('https://www.ndtv.com/world-news/rishi-sunak-snubs-pak-origin-mp-over-bbc-documentary-on-pm-modi-3706684')\n",
        "article = scraped_data.read()\n",
        "\n",
        "parsed_article = bs.BeautifulSoup(article,'lxml')\n",
        "\n",
        "paragraphs = parsed_article.find_all('p')\n",
        "\n",
        "article_text = \"\"\n",
        "\n",
        "for p in paragraphs:\n",
        "    article_text += p.text\n",
        "article_text = re.sub(r'\\[[0-9]*\\]', ' ', article_text)\n",
        "article_text = re.sub(r'\\s+', ' ', article_text)\n",
        "formatted_article_text = re.sub('[^a-zA-Z]', ' ', article_text )\n",
        "formatted_article_text = re.sub(r'\\s+', ' ', formatted_article_text)\n",
        "sentence_list = nltk.sent_tokenize(article_text)\n",
        "stopwords = nltk.corpus.stopwords.words('english')\n",
        "word_frequencies = {}\n",
        "for word in nltk.word_tokenize(formatted_article_text):\n",
        "    if word not in stopwords:\n",
        "        if word not in word_frequencies.keys():\n",
        "            word_frequencies[word] = 1\n",
        "        else:\n",
        "            word_frequencies[word] += 1\n",
        "maximum_frequncy = max(word_frequencies.values())\n",
        "\n",
        "for word in word_frequencies.keys():\n",
        "    word_frequencies[word] = (word_frequencies[word]/maximum_frequncy)\n",
        "sentence_scores = {}\n",
        "for sent in sentence_list:\n",
        "    for word in nltk.word_tokenize(sent.lower()):\n",
        "        if word in word_frequencies.keys():\n",
        "            if len(sent.split(' ')) < 70:\n",
        "                if sent not in sentence_scores.keys():\n",
        "                    sentence_scores[sent] = word_frequencies[word]\n",
        "                else:\n",
        "                    sentence_scores[sent] += word_frequencies[word]\n",
        "summary_sentences = heapq.nlargest(7, sentence_scores, key=sentence_scores.get)\n",
        "\n",
        "summary = ' '.join(summary_sentences)\n",
        "print(summary)\n"
      ]
    },
    {
      "cell_type": "code",
      "source": [
        "import bs4 as bs\n",
        "import urllib.request\n",
        "import re\n",
        "import nltk\n",
        "import heapq\n",
        "\n",
        "scraped_data = urllib.request.urlopen('https://www.ndtv.com/world-news/rishi-sunak-snubs-pak-origin-mp-over-bbc-documentary-on-pm-modi-3706684')\n",
        "article = scraped_data.read()\n",
        "\n",
        "parsed_article = bs.BeautifulSoup(article,'lxml')\n",
        "\n",
        "paragraphs = parsed_article.find_all('p')\n",
        "\n",
        "article_text = \"\"\n",
        "\n",
        "for p in paragraphs:\n",
        "    article_text += p.text\n",
        "article_text = re.sub(r'\\[[0-9]*\\]', ' ', article_text)\n",
        "article_text = re.sub(r'\\s+', ' ', article_text)\n",
        "formatted_article_text = re.sub('[^a-zA-Z]', ' ', article_text )\n",
        "formatted_article_text = re.sub(r'\\s+', ' ', formatted_article_text)\n",
        "sentence_list = nltk.sent_tokenize(article_text)\n",
        "stopwords = nltk.corpus.stopwords.words('english')\n",
        "word_frequencies = {}\n",
        "for word in nltk.word_tokenize(formatted_article_text):\n",
        "    if word not in stopwords:\n",
        "        if word not in word_frequencies.keys():\n",
        "            word_frequencies[word] = 1\n",
        "        else:\n",
        "            word_frequencies[word] += 1\n",
        "maximum_frequncy = max(word_frequencies.values())\n",
        "\n",
        "for word in word_frequencies.keys():\n",
        "    word_frequencies[word] = (word_frequencies[word]/maximum_frequncy)\n",
        "sentence_scores = {}\n",
        "for sent in sentence_list:\n",
        "    for word in nltk.word_tokenize(sent.lower()):\n",
        "        if word in word_frequencies.keys():\n",
        "            if len(sent.split(' ')) < 70:\n",
        "                if sent not in sentence_scores.keys():\n",
        "                    sentence_scores[sent] = word_frequencies[word]\n",
        "                else:\n",
        "                    sentence_scores[sent] += word_frequencies[word]\n",
        "summary_sentences = heapq.nlargest(7, sentence_scores, key=sentence_scores.get)\n",
        "\n",
        "summary = ' '.join(summary_sentences)\n",
        "print(summary)\n"
      ],
      "metadata": {
        "colab": {
          "base_uri": "https://localhost:8080/"
        },
        "id": "zmkrw9TGISrW",
        "outputId": "2eb2a938-fd5e-43ca-840a-8d78dc932dee"
      },
      "execution_count": null,
      "outputs": [
        {
          "output_type": "stream",
          "name": "stdout",
          "text": [
            "It makes us wonder about the purpose of the exercise and the agenda behind it; frankly, we do wish to dignify these efforts,\" he added.Referring to apparent remarks made by former UK Secretary Jack Straw in the documentary series, Bagchi said \"He (Jack Straw) seems to be referring to some internal UK report. Ministry of External Affairs also reacted to the BBC report.Defending Prime Minister Narendra Modi in the British Parliament, UK Prime Minister Rishi Sunak distanced himself from the BBC documentary series, saying he \"doesn't agree with the characterization\" of his Indian counterpart.Mr Sunak made these remarks on the controversial documentary that was raised in the British Parliament by Pakistan-origin MP Imran Hussain. \"Ministry of External Affairs also reacted to the BBC report and said that this is a completely biased copy.While addressing a weekly briefing in New Delhi, MEA Spokesperson Arindam Bagchi said, \"We think this is a propaganda piece. \"Condemning the biased reporting of BBC, Rami tweeted, \"@BBCNews You have caused a great deal of hurt to over a billion Indians It insults a democratically elected@PMOIndia Indian Police & the Indian judiciary. We condemn the riots and loss of life & also condemn your biased reporting. The documentary sparked outrage and was removed from select platforms.Prominent Indian-origin UK citizens condemned the series. Prominent UK Citizen Lord Rami Ranger said the \"BBC caused a great deal of hurt to over a billion Indians.\n"
          ]
        }
      ]
    },
    {
      "cell_type": "code",
      "source": [],
      "metadata": {
        "id": "bZLLpoBJIdzK"
      },
      "execution_count": null,
      "outputs": []
    }
  ]
}